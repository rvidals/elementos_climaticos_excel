{
 "cells": [
  {
   "cell_type": "code",
   "execution_count": 1,
   "metadata": {},
   "outputs": [],
   "source": [
    "import os \n",
    "import xlsxwriter\n",
    "import pandas as pd \n",
    "from utils import *\n",
    "import plotly.graph_objects as go"
   ]
  },
  {
   "cell_type": "code",
   "execution_count": 2,
   "metadata": {},
   "outputs": [],
   "source": [
    "est_brasilia = carregar_dados_csv(\n",
    "    caminho_arquivo('dados_83377_D_1961-09-11_2024-03-14.csv'),\n",
    "                                    delimiter=';', skiprows=10)\n",
    "\n",
    "\n",
    "est_brasilia = est_brasilia[est_brasilia['Data Medicao'] < '2024-01-01']"
   ]
  },
  {
   "cell_type": "markdown",
   "metadata": {},
   "source": [
    "Verificar a existência de valores vazios"
   ]
  },
  {
   "cell_type": "code",
   "execution_count": 3,
   "metadata": {},
   "outputs": [
    {
     "data": {
      "text/plain": [
       "'Completo: 22757 | Buracos (NAN): 205  | Sem buracos: 22552'"
      ]
     },
     "execution_count": 3,
     "metadata": {},
     "output_type": "execute_result"
    }
   ],
   "source": [
    "contar_valores_nodata(est_brasilia, 'PRECIPITACAO TOTAL, DIARIO(mm)')"
   ]
  },
  {
   "cell_type": "code",
   "execution_count": 4,
   "metadata": {},
   "outputs": [
    {
     "data": {
      "text/plain": [
       "'Completo: 22757 | Buracos (NAN): 259  | Sem buracos: 22498'"
      ]
     },
     "execution_count": 4,
     "metadata": {},
     "output_type": "execute_result"
    }
   ],
   "source": [
    "contar_valores_nodata(est_brasilia, 'UMIDADE RELATIVA DO AR, MEDIA DIARIA(%)')"
   ]
  },
  {
   "cell_type": "code",
   "execution_count": 5,
   "metadata": {},
   "outputs": [
    {
     "data": {
      "text/plain": [
       "'Completo: 22757 | Buracos (NAN): 190  | Sem buracos: 22567'"
      ]
     },
     "execution_count": 5,
     "metadata": {},
     "output_type": "execute_result"
    }
   ],
   "source": [
    "contar_valores_nodata(est_brasilia,'TEMPERATURA MAXIMA, DIARIA(°C)' )"
   ]
  },
  {
   "cell_type": "code",
   "execution_count": 6,
   "metadata": {},
   "outputs": [
    {
     "data": {
      "text/plain": [
       "'Completo: 22757 | Buracos (NAN): 166  | Sem buracos: 22591'"
      ]
     },
     "execution_count": 6,
     "metadata": {},
     "output_type": "execute_result"
    }
   ],
   "source": [
    "contar_valores_nodata(est_brasilia, 'TEMPERATURA MINIMA, DIARIA(°C)')"
   ]
  },
  {
   "cell_type": "markdown",
   "metadata": {},
   "source": [
    "Aplicar regras de negócio:\n",
    "- Regra 1: Remover valores vazios\n",
    "- Regra 2: Inserir mes e ano\n",
    "    "
   ]
  },
  {
   "cell_type": "code",
   "execution_count": 7,
   "metadata": {},
   "outputs": [],
   "source": [
    "est_brasilia_filtro_precipitacao = filtrar_dados_notNaN(est_brasilia, 'PRECIPITACAO TOTAL, DIARIO(mm)')\n",
    "est_brasilia_filtro_umidade = filtrar_dados_notNaN(est_brasilia, 'UMIDADE RELATIVA DO AR, MEDIA DIARIA(%)')\n",
    "est_brasilia_filtro_min = filtrar_dados_notNaN(est_brasilia, 'TEMPERATURA MINIMA, DIARIA(°C)')\n",
    "est_brasilia_filtro_max = filtrar_dados_notNaN(est_brasilia, 'TEMPERATURA MAXIMA, DIARIA(°C)')\n"
   ]
  },
  {
   "cell_type": "code",
   "execution_count": 8,
   "metadata": {},
   "outputs": [],
   "source": [
    "est_brasilia_filtro_precipitacao = inserir_mes_ano(est_brasilia_filtro_precipitacao, 'Data Medicao')\n",
    "est_brasilia_filtro_umidade = inserir_mes_ano(est_brasilia_filtro_umidade, 'Data Medicao')\n",
    "est_brasilia_filtro_min = inserir_mes_ano(est_brasilia_filtro_min, 'Data Medicao')\n",
    "est_brasilia_filtro_max = inserir_mes_ano(est_brasilia_filtro_max, 'Data Medicao')"
   ]
  },
  {
   "cell_type": "code",
   "execution_count": 9,
   "metadata": {},
   "outputs": [],
   "source": [
    "est_brasilia_filtro_precipitacao = inserir_numero_mes(est_brasilia_filtro_precipitacao)\n",
    "est_brasilia_filtro_umidade = inserir_numero_mes(est_brasilia_filtro_umidade)\n",
    "est_brasilia_filtro_min = inserir_numero_mes(est_brasilia_filtro_min)\n",
    "est_brasilia_filtro_max = inserir_numero_mes(est_brasilia_filtro_max)\n"
   ]
  },
  {
   "cell_type": "markdown",
   "metadata": {},
   "source": [
    "Filtrar as colunas de interesse"
   ]
  },
  {
   "cell_type": "code",
   "execution_count": 10,
   "metadata": {},
   "outputs": [],
   "source": [
    "# \n",
    "\n",
    "est_brasilia_select_precipitacao = est_brasilia_filtro_precipitacao[['Data Medicao','NUM_MÊS','MÊS','ANO','PRECIPITACAO TOTAL, DIARIO(mm)']]\n",
    "est_brasilia_select_umidade = est_brasilia_filtro_umidade[['Data Medicao','NUM_MÊS','MÊS','ANO','UMIDADE RELATIVA DO AR, MEDIA DIARIA(%)']]\n",
    "est_brasilia_select_max = est_brasilia_filtro_max[['Data Medicao','NUM_MÊS','MÊS','ANO','TEMPERATURA MAXIMA, DIARIA(°C)']]\n",
    "est_brasilia_select_min = est_brasilia_filtro_min[['Data Medicao','NUM_MÊS','MÊS','ANO','TEMPERATURA MINIMA, DIARIA(°C)']]\n"
   ]
  },
  {
   "cell_type": "markdown",
   "metadata": {},
   "source": [
    "Aplicar regra de negócio:\n",
    "- Regra 3: Verificar anos com registros em mais de 360 dias\n",
    "- Regra 4: Verificar quantos anos estão completos e quantos estão incompletos"
   ]
  },
  {
   "cell_type": "code",
   "execution_count": 11,
   "metadata": {},
   "outputs": [
    {
     "name": "stdout",
     "output_type": "stream",
     "text": [
      "Anos Completos: 58\n",
      "Anos Incompletos: 5\n"
     ]
    }
   ],
   "source": [
    "completos_brasilia_precipitacao, incompletos_brasilia_precipitacao = listar_anos_descartados(est_brasilia_select_precipitacao, 'ANO')\n",
    "print(f'Anos Completos: {len(completos_brasilia_precipitacao)}\\nAnos Incompletos: {len(incompletos_brasilia_precipitacao)}')"
   ]
  },
  {
   "cell_type": "code",
   "execution_count": 12,
   "metadata": {},
   "outputs": [
    {
     "name": "stdout",
     "output_type": "stream",
     "text": [
      "Anos Completos: 58\n",
      "Anos Incompletos: 5\n"
     ]
    }
   ],
   "source": [
    "completos_brasilia_umidade, incompletos_brasilia_umidade = listar_anos_descartados(est_brasilia_select_umidade, 'ANO')\n",
    "print(f'Anos Completos: {len(completos_brasilia_umidade)}\\nAnos Incompletos: {len(incompletos_brasilia_umidade)}')"
   ]
  },
  {
   "cell_type": "code",
   "execution_count": 13,
   "metadata": {},
   "outputs": [
    {
     "name": "stdout",
     "output_type": "stream",
     "text": [
      "Anos Completos: 59\n",
      "Anos Incompletos: 4\n"
     ]
    }
   ],
   "source": [
    "completos_brasilia_min, incompletos_brasilia_min = listar_anos_descartados(est_brasilia_select_min, 'ANO')\n",
    "print(f'Anos Completos: {len(completos_brasilia_min)}\\nAnos Incompletos: {len(incompletos_brasilia_min)}')"
   ]
  },
  {
   "cell_type": "code",
   "execution_count": 14,
   "metadata": {},
   "outputs": [
    {
     "name": "stdout",
     "output_type": "stream",
     "text": [
      "Anos Completos: 58\n",
      "Anos Incompletos: 4\n"
     ]
    }
   ],
   "source": [
    "completos_brasilia_max, incompletos_brasilia_max = listar_anos_descartados(est_brasilia_select_max, 'ANO')\n",
    "print(f'Anos Completos: {len(completos_brasilia_max)}\\nAnos Incompletos: {len(incompletos_brasilia_max)}')"
   ]
  },
  {
   "cell_type": "code",
   "execution_count": 15,
   "metadata": {},
   "outputs": [],
   "source": [
    "# Utilizando somente os anos completos na elaboração dos gráficos\n",
    "\n",
    "est_brasilia_select_precipitacao = est_brasilia_select_precipitacao[est_brasilia_select_precipitacao['ANO'].isin(completos_brasilia_precipitacao)]\n",
    "est_brasilia_select_umidade = est_brasilia_select_umidade[est_brasilia_select_umidade['ANO'].isin(completos_brasilia_umidade)]\n",
    "est_brasilia_select_max = est_brasilia_select_max[est_brasilia_select_max['ANO'].isin(completos_brasilia_max)]\n",
    "est_brasilia_select_min = est_brasilia_select_min[est_brasilia_select_min['ANO'].isin(completos_brasilia_min)]"
   ]
  },
  {
   "cell_type": "markdown",
   "metadata": {},
   "source": [
    "### CALCULAR\n",
    "- PRECIPITAÇÃO MENSAL = SOMA DA PRECIPITAÇÃO DE CADA DIA DO MÊS PARA CADA ANO\n",
    "- MÉDIA ANUAL MENSAL = MÉDIA DA PRECIPITAÇÃO DE CADA MÊS PARA TODOS OS ANOS"
   ]
  },
  {
   "cell_type": "code",
   "execution_count": 16,
   "metadata": {},
   "outputs": [],
   "source": [
    "# Calculo somente dos anos completos\n",
    "# est_brasilia_precipitacao_acumulado_mes = calcular_precipitacao_acumulada_mes(est_brasilia_select_precipitacao[est_brasilia_select_precipitacao['ANO'].isin(completos_brasilia_precipitacao)], ['ANO','NUM_MÊS','MÊS'], 'PRECIPITACAO TOTAL, DIARIO(mm)')\n",
    "\n",
    "est_brasilia_precipitacao_acumulado_mes = calcular_precipitacao_acumulada_mes(est_brasilia_select_precipitacao, ['ANO','NUM_MÊS','MÊS'], 'PRECIPITACAO TOTAL, DIARIO(mm)')"
   ]
  },
  {
   "cell_type": "code",
   "execution_count": 17,
   "metadata": {},
   "outputs": [],
   "source": [
    "est_brasilia_precipitacao_media_ano = calcular_media_ano_completo(est_brasilia_precipitacao_acumulado_mes, ['NUM_MÊS','MÊS'], 'PRECIPITACAO TOTAL, DIARIO(mm)')"
   ]
  },
  {
   "cell_type": "code",
   "execution_count": 18,
   "metadata": {},
   "outputs": [
    {
     "data": {
      "application/vnd.plotly.v1+json": {
       "config": {
        "plotlyServerURL": "https://plot.ly"
       },
       "data": [
        {
         "mode": "lines+markers+text",
         "name": "Estação Convencional Inmet (1961 - 2023)",
         "text": [
          43,
          154,
          249,
          243,
          214,
          200,
          204,
          136,
          33,
          6,
          6,
          14
         ],
         "textposition": "top center",
         "type": "scatter",
         "x": [
          "September",
          "October",
          "November",
          "December",
          "January",
          "February",
          "March",
          "April",
          "May",
          "June",
          "July",
          "August"
         ],
         "y": [
          43.21,
          153.89,
          249.34,
          242.77,
          214.12,
          199.99,
          203.81,
          135.58,
          32.63,
          6.05,
          6.22,
          13.85
         ]
        }
       ],
       "layout": {
        "annotations": [
         {
          "font": {
           "color": "gray",
           "size": 10
          },
          "showarrow": false,
          "text": "Fonte: INMET, 2024",
          "x": 0,
          "xref": "paper",
          "y": -0.2,
          "yref": "paper"
         }
        ],
        "template": {
         "data": {
          "bar": [
           {
            "error_x": {
             "color": "#2a3f5f"
            },
            "error_y": {
             "color": "#2a3f5f"
            },
            "marker": {
             "line": {
              "color": "#E5ECF6",
              "width": 0.5
             },
             "pattern": {
              "fillmode": "overlay",
              "size": 10,
              "solidity": 0.2
             }
            },
            "type": "bar"
           }
          ],
          "barpolar": [
           {
            "marker": {
             "line": {
              "color": "#E5ECF6",
              "width": 0.5
             },
             "pattern": {
              "fillmode": "overlay",
              "size": 10,
              "solidity": 0.2
             }
            },
            "type": "barpolar"
           }
          ],
          "carpet": [
           {
            "aaxis": {
             "endlinecolor": "#2a3f5f",
             "gridcolor": "white",
             "linecolor": "white",
             "minorgridcolor": "white",
             "startlinecolor": "#2a3f5f"
            },
            "baxis": {
             "endlinecolor": "#2a3f5f",
             "gridcolor": "white",
             "linecolor": "white",
             "minorgridcolor": "white",
             "startlinecolor": "#2a3f5f"
            },
            "type": "carpet"
           }
          ],
          "choropleth": [
           {
            "colorbar": {
             "outlinewidth": 0,
             "ticks": ""
            },
            "type": "choropleth"
           }
          ],
          "contour": [
           {
            "colorbar": {
             "outlinewidth": 0,
             "ticks": ""
            },
            "colorscale": [
             [
              0,
              "#0d0887"
             ],
             [
              0.1111111111111111,
              "#46039f"
             ],
             [
              0.2222222222222222,
              "#7201a8"
             ],
             [
              0.3333333333333333,
              "#9c179e"
             ],
             [
              0.4444444444444444,
              "#bd3786"
             ],
             [
              0.5555555555555556,
              "#d8576b"
             ],
             [
              0.6666666666666666,
              "#ed7953"
             ],
             [
              0.7777777777777778,
              "#fb9f3a"
             ],
             [
              0.8888888888888888,
              "#fdca26"
             ],
             [
              1,
              "#f0f921"
             ]
            ],
            "type": "contour"
           }
          ],
          "contourcarpet": [
           {
            "colorbar": {
             "outlinewidth": 0,
             "ticks": ""
            },
            "type": "contourcarpet"
           }
          ],
          "heatmap": [
           {
            "colorbar": {
             "outlinewidth": 0,
             "ticks": ""
            },
            "colorscale": [
             [
              0,
              "#0d0887"
             ],
             [
              0.1111111111111111,
              "#46039f"
             ],
             [
              0.2222222222222222,
              "#7201a8"
             ],
             [
              0.3333333333333333,
              "#9c179e"
             ],
             [
              0.4444444444444444,
              "#bd3786"
             ],
             [
              0.5555555555555556,
              "#d8576b"
             ],
             [
              0.6666666666666666,
              "#ed7953"
             ],
             [
              0.7777777777777778,
              "#fb9f3a"
             ],
             [
              0.8888888888888888,
              "#fdca26"
             ],
             [
              1,
              "#f0f921"
             ]
            ],
            "type": "heatmap"
           }
          ],
          "heatmapgl": [
           {
            "colorbar": {
             "outlinewidth": 0,
             "ticks": ""
            },
            "colorscale": [
             [
              0,
              "#0d0887"
             ],
             [
              0.1111111111111111,
              "#46039f"
             ],
             [
              0.2222222222222222,
              "#7201a8"
             ],
             [
              0.3333333333333333,
              "#9c179e"
             ],
             [
              0.4444444444444444,
              "#bd3786"
             ],
             [
              0.5555555555555556,
              "#d8576b"
             ],
             [
              0.6666666666666666,
              "#ed7953"
             ],
             [
              0.7777777777777778,
              "#fb9f3a"
             ],
             [
              0.8888888888888888,
              "#fdca26"
             ],
             [
              1,
              "#f0f921"
             ]
            ],
            "type": "heatmapgl"
           }
          ],
          "histogram": [
           {
            "marker": {
             "pattern": {
              "fillmode": "overlay",
              "size": 10,
              "solidity": 0.2
             }
            },
            "type": "histogram"
           }
          ],
          "histogram2d": [
           {
            "colorbar": {
             "outlinewidth": 0,
             "ticks": ""
            },
            "colorscale": [
             [
              0,
              "#0d0887"
             ],
             [
              0.1111111111111111,
              "#46039f"
             ],
             [
              0.2222222222222222,
              "#7201a8"
             ],
             [
              0.3333333333333333,
              "#9c179e"
             ],
             [
              0.4444444444444444,
              "#bd3786"
             ],
             [
              0.5555555555555556,
              "#d8576b"
             ],
             [
              0.6666666666666666,
              "#ed7953"
             ],
             [
              0.7777777777777778,
              "#fb9f3a"
             ],
             [
              0.8888888888888888,
              "#fdca26"
             ],
             [
              1,
              "#f0f921"
             ]
            ],
            "type": "histogram2d"
           }
          ],
          "histogram2dcontour": [
           {
            "colorbar": {
             "outlinewidth": 0,
             "ticks": ""
            },
            "colorscale": [
             [
              0,
              "#0d0887"
             ],
             [
              0.1111111111111111,
              "#46039f"
             ],
             [
              0.2222222222222222,
              "#7201a8"
             ],
             [
              0.3333333333333333,
              "#9c179e"
             ],
             [
              0.4444444444444444,
              "#bd3786"
             ],
             [
              0.5555555555555556,
              "#d8576b"
             ],
             [
              0.6666666666666666,
              "#ed7953"
             ],
             [
              0.7777777777777778,
              "#fb9f3a"
             ],
             [
              0.8888888888888888,
              "#fdca26"
             ],
             [
              1,
              "#f0f921"
             ]
            ],
            "type": "histogram2dcontour"
           }
          ],
          "mesh3d": [
           {
            "colorbar": {
             "outlinewidth": 0,
             "ticks": ""
            },
            "type": "mesh3d"
           }
          ],
          "parcoords": [
           {
            "line": {
             "colorbar": {
              "outlinewidth": 0,
              "ticks": ""
             }
            },
            "type": "parcoords"
           }
          ],
          "pie": [
           {
            "automargin": true,
            "type": "pie"
           }
          ],
          "scatter": [
           {
            "fillpattern": {
             "fillmode": "overlay",
             "size": 10,
             "solidity": 0.2
            },
            "type": "scatter"
           }
          ],
          "scatter3d": [
           {
            "line": {
             "colorbar": {
              "outlinewidth": 0,
              "ticks": ""
             }
            },
            "marker": {
             "colorbar": {
              "outlinewidth": 0,
              "ticks": ""
             }
            },
            "type": "scatter3d"
           }
          ],
          "scattercarpet": [
           {
            "marker": {
             "colorbar": {
              "outlinewidth": 0,
              "ticks": ""
             }
            },
            "type": "scattercarpet"
           }
          ],
          "scattergeo": [
           {
            "marker": {
             "colorbar": {
              "outlinewidth": 0,
              "ticks": ""
             }
            },
            "type": "scattergeo"
           }
          ],
          "scattergl": [
           {
            "marker": {
             "colorbar": {
              "outlinewidth": 0,
              "ticks": ""
             }
            },
            "type": "scattergl"
           }
          ],
          "scattermapbox": [
           {
            "marker": {
             "colorbar": {
              "outlinewidth": 0,
              "ticks": ""
             }
            },
            "type": "scattermapbox"
           }
          ],
          "scatterpolar": [
           {
            "marker": {
             "colorbar": {
              "outlinewidth": 0,
              "ticks": ""
             }
            },
            "type": "scatterpolar"
           }
          ],
          "scatterpolargl": [
           {
            "marker": {
             "colorbar": {
              "outlinewidth": 0,
              "ticks": ""
             }
            },
            "type": "scatterpolargl"
           }
          ],
          "scatterternary": [
           {
            "marker": {
             "colorbar": {
              "outlinewidth": 0,
              "ticks": ""
             }
            },
            "type": "scatterternary"
           }
          ],
          "surface": [
           {
            "colorbar": {
             "outlinewidth": 0,
             "ticks": ""
            },
            "colorscale": [
             [
              0,
              "#0d0887"
             ],
             [
              0.1111111111111111,
              "#46039f"
             ],
             [
              0.2222222222222222,
              "#7201a8"
             ],
             [
              0.3333333333333333,
              "#9c179e"
             ],
             [
              0.4444444444444444,
              "#bd3786"
             ],
             [
              0.5555555555555556,
              "#d8576b"
             ],
             [
              0.6666666666666666,
              "#ed7953"
             ],
             [
              0.7777777777777778,
              "#fb9f3a"
             ],
             [
              0.8888888888888888,
              "#fdca26"
             ],
             [
              1,
              "#f0f921"
             ]
            ],
            "type": "surface"
           }
          ],
          "table": [
           {
            "cells": {
             "fill": {
              "color": "#EBF0F8"
             },
             "line": {
              "color": "white"
             }
            },
            "header": {
             "fill": {
              "color": "#C8D4E3"
             },
             "line": {
              "color": "white"
             }
            },
            "type": "table"
           }
          ]
         },
         "layout": {
          "annotationdefaults": {
           "arrowcolor": "#2a3f5f",
           "arrowhead": 0,
           "arrowwidth": 1
          },
          "autotypenumbers": "strict",
          "coloraxis": {
           "colorbar": {
            "outlinewidth": 0,
            "ticks": ""
           }
          },
          "colorscale": {
           "diverging": [
            [
             0,
             "#8e0152"
            ],
            [
             0.1,
             "#c51b7d"
            ],
            [
             0.2,
             "#de77ae"
            ],
            [
             0.3,
             "#f1b6da"
            ],
            [
             0.4,
             "#fde0ef"
            ],
            [
             0.5,
             "#f7f7f7"
            ],
            [
             0.6,
             "#e6f5d0"
            ],
            [
             0.7,
             "#b8e186"
            ],
            [
             0.8,
             "#7fbc41"
            ],
            [
             0.9,
             "#4d9221"
            ],
            [
             1,
             "#276419"
            ]
           ],
           "sequential": [
            [
             0,
             "#0d0887"
            ],
            [
             0.1111111111111111,
             "#46039f"
            ],
            [
             0.2222222222222222,
             "#7201a8"
            ],
            [
             0.3333333333333333,
             "#9c179e"
            ],
            [
             0.4444444444444444,
             "#bd3786"
            ],
            [
             0.5555555555555556,
             "#d8576b"
            ],
            [
             0.6666666666666666,
             "#ed7953"
            ],
            [
             0.7777777777777778,
             "#fb9f3a"
            ],
            [
             0.8888888888888888,
             "#fdca26"
            ],
            [
             1,
             "#f0f921"
            ]
           ],
           "sequentialminus": [
            [
             0,
             "#0d0887"
            ],
            [
             0.1111111111111111,
             "#46039f"
            ],
            [
             0.2222222222222222,
             "#7201a8"
            ],
            [
             0.3333333333333333,
             "#9c179e"
            ],
            [
             0.4444444444444444,
             "#bd3786"
            ],
            [
             0.5555555555555556,
             "#d8576b"
            ],
            [
             0.6666666666666666,
             "#ed7953"
            ],
            [
             0.7777777777777778,
             "#fb9f3a"
            ],
            [
             0.8888888888888888,
             "#fdca26"
            ],
            [
             1,
             "#f0f921"
            ]
           ]
          },
          "colorway": [
           "#636efa",
           "#EF553B",
           "#00cc96",
           "#ab63fa",
           "#FFA15A",
           "#19d3f3",
           "#FF6692",
           "#B6E880",
           "#FF97FF",
           "#FECB52"
          ],
          "font": {
           "color": "#2a3f5f"
          },
          "geo": {
           "bgcolor": "white",
           "lakecolor": "white",
           "landcolor": "#E5ECF6",
           "showlakes": true,
           "showland": true,
           "subunitcolor": "white"
          },
          "hoverlabel": {
           "align": "left"
          },
          "hovermode": "closest",
          "mapbox": {
           "style": "light"
          },
          "paper_bgcolor": "white",
          "plot_bgcolor": "#E5ECF6",
          "polar": {
           "angularaxis": {
            "gridcolor": "white",
            "linecolor": "white",
            "ticks": ""
           },
           "bgcolor": "#E5ECF6",
           "radialaxis": {
            "gridcolor": "white",
            "linecolor": "white",
            "ticks": ""
           }
          },
          "scene": {
           "xaxis": {
            "backgroundcolor": "#E5ECF6",
            "gridcolor": "white",
            "gridwidth": 2,
            "linecolor": "white",
            "showbackground": true,
            "ticks": "",
            "zerolinecolor": "white"
           },
           "yaxis": {
            "backgroundcolor": "#E5ECF6",
            "gridcolor": "white",
            "gridwidth": 2,
            "linecolor": "white",
            "showbackground": true,
            "ticks": "",
            "zerolinecolor": "white"
           },
           "zaxis": {
            "backgroundcolor": "#E5ECF6",
            "gridcolor": "white",
            "gridwidth": 2,
            "linecolor": "white",
            "showbackground": true,
            "ticks": "",
            "zerolinecolor": "white"
           }
          },
          "shapedefaults": {
           "line": {
            "color": "#2a3f5f"
           }
          },
          "ternary": {
           "aaxis": {
            "gridcolor": "white",
            "linecolor": "white",
            "ticks": ""
           },
           "baxis": {
            "gridcolor": "white",
            "linecolor": "white",
            "ticks": ""
           },
           "bgcolor": "#E5ECF6",
           "caxis": {
            "gridcolor": "white",
            "linecolor": "white",
            "ticks": ""
           }
          },
          "title": {
           "x": 0.05
          },
          "xaxis": {
           "automargin": true,
           "gridcolor": "white",
           "linecolor": "white",
           "ticks": "",
           "title": {
            "standoff": 15
           },
           "zerolinecolor": "white",
           "zerolinewidth": 2
          },
          "yaxis": {
           "automargin": true,
           "gridcolor": "white",
           "linecolor": "white",
           "ticks": "",
           "title": {
            "standoff": 15
           },
           "zerolinecolor": "white",
           "zerolinewidth": 2
          }
         }
        },
        "title": {
         "text": "Média histórica de chuva mensal no Distrito Federal (1961 - 2023)"
        },
        "xaxis": {
         "ticktext": [
          "S",
          "O",
          "N",
          "D",
          "J/E",
          "F",
          "M",
          "A",
          "M",
          "J",
          "J",
          "A"
         ],
         "tickvals": [
          "September",
          "October",
          "November",
          "December",
          "January",
          "February",
          "March",
          "April",
          "May",
          "June",
          "July",
          "August"
         ]
        },
        "yaxis": {
         "range": [
          0,
          300
         ],
         "title": {
          "text": "Média de Chuva (mm)"
         }
        }
       }
      }
     },
     "metadata": {},
     "output_type": "display_data"
    }
   ],
   "source": [
    "# Reorganizar os dados para que o gráfico comece pelo mês 9\n",
    "\n",
    "jan_ago = est_brasilia_precipitacao_media_ano[est_brasilia_precipitacao_media_ano['NUM_MÊS'] < 9]\n",
    "set_dez = est_brasilia_precipitacao_media_ano[est_brasilia_precipitacao_media_ano['NUM_MÊS'] >= 9]\n",
    "\n",
    "est_brasilia_precipitacao_media_ano_sorted = pd.concat([set_dez, jan_ago])\n",
    "\n",
    "# Criar o gráfico\n",
    "fig = go.Figure()\n",
    "\n",
    "# Adicionar o trace com os dados ordenados\n",
    "fig.add_trace(go.Scatter(x=est_brasilia_precipitacao_media_ano_sorted['MÊS'], \n",
    "                         y=round(est_brasilia_precipitacao_media_ano_sorted['PRECIPITACAO TOTAL, DIARIO(mm)'], 2), \n",
    "                         mode='lines+markers+text', \n",
    "                         text = round(est_brasilia_precipitacao_media_ano_sorted['PRECIPITACAO TOTAL, DIARIO(mm)'], 0),\n",
    "                         textposition='top center',\n",
    "                         name='Estação Convencional Inmet (1961 - 2023)'))\n",
    "\n",
    "# Atualizar o layout para garantir que o eixo x comece pelo mês 9\n",
    "fig.update_layout(\n",
    "    xaxis=dict(\n",
    "        tickvals=['September', 'October', 'November', 'December', 'January', 'February',\n",
    "                  'March', 'April', 'May', 'June', 'July', 'August'],  # Ordenação do eixo X começando pelo mês 9\n",
    "        ticktext=['S', 'O', 'N', 'D', 'J/E', 'F', 'M', 'A', 'M', 'J', 'J', 'A'],  # Abreviações dos meses\n",
    "        # title=\"Mês\",\n",
    "        # categoryorder=\"array\",\n",
    "        # categoryarray=[9, 10, 11, 12, 1, 2, 3, 4, 5, 6, 7, 8]  # Definindo a ordem do eixo\n",
    "    ),\n",
    "    yaxis= dict(\n",
    "        \n",
    "        range=[0, 300],  # Definindo o intervalo do eixo Y\n",
    "        title=\"Média de Chuva (mm)\"\n",
    "        ),  # Título do eixo Y\n",
    "    title=\"Média histórica de chuva mensal no Distrito Federal (1961 - 2023)\", # Título do gráfico\n",
    "    \n",
    "    # Adicionar a anotação com a fonte dos dados\n",
    "    annotations = [\n",
    "        dict(\n",
    "            x=0, y=-0.2,  # Posição da fonte no layout (ajuste conforme necessário)\n",
    "            xref=\"paper\", yref=\"paper\",\n",
    "            text=\"Fonte: INMET, 2024\",  # Texto da fonte\n",
    "            showarrow=False,\n",
    "            font=dict(size=10, color=\"gray\")\n",
    "        )\n",
    "    ]\n",
    ")\n"
   ]
  },
  {
   "cell_type": "code",
   "execution_count": 19,
   "metadata": {},
   "outputs": [],
   "source": [
    "# Exportar o df para um arquivo csv\n",
    "\n",
    "# est_brasilia_precipitacao_media_ano_sorted.rename(\n",
    "#     columns={'NUM_MÊS':'num_mes',\n",
    "#                 'MÊS':'nm_mes',\n",
    "#                 'PRECIPITACAO TOTAL, DIARIO(mm)':'precipitacao_mensal_media_mm'\n",
    "#              }, inplace=True)\n",
    "\n",
    "# est_brasilia_precipitacao_media_ano_sorted['precipitacao_mensal_media_mm'] = round(est_brasilia_precipitacao_media_ano_sorted['precipitacao_mensal_media_mm'], 2)\n",
    "\n",
    "# if not os.path.exists(caminho_arquivo('resultado')):\n",
    "#     os.makedirs(caminho_arquivo('resultado'))\n",
    "# est_brasilia_precipitacao_media_ano_sorted.to_csv(caminho_arquivo('resultado/est_brasilia_precipitacao_media_ano_sorted.csv'), index=False)"
   ]
  },
  {
   "cell_type": "markdown",
   "metadata": {},
   "source": [
    "#### CALCULAR\n",
    "- UMIDADE MENSAL = MÉDIA DA UMIDADE DE CADA DIA DO MÊS PARA CADA ANO\n",
    "- UMIDADE ANUAL = MÉDIA DA UMIDADE DE CADA MÊS PARA TODOS OS ANOS"
   ]
  },
  {
   "cell_type": "code",
   "execution_count": 20,
   "metadata": {},
   "outputs": [],
   "source": [
    "est_brasilia_umidade_media_mes = calcular_media_mes(est_brasilia_select_umidade, ['ANO','NUM_MÊS','MÊS'], 'UMIDADE RELATIVA DO AR, MEDIA DIARIA(%)')"
   ]
  },
  {
   "cell_type": "code",
   "execution_count": 21,
   "metadata": {},
   "outputs": [],
   "source": [
    "est_brasilia_umidade_media_ano = calcular_media_ano_completo(est_brasilia_umidade_media_mes, ['NUM_MÊS','MÊS'], 'UMIDADE RELATIVA DO AR, MEDIA DIARIA(%)')"
   ]
  },
  {
   "cell_type": "code",
   "execution_count": 22,
   "metadata": {},
   "outputs": [
    {
     "data": {
      "application/vnd.plotly.v1+json": {
       "config": {
        "plotlyServerURL": "https://plot.ly"
       },
       "data": [
        {
         "mode": "lines+markers+text",
         "name": "Estação Convencional Inmet (1961 - 2023)",
         "text": [
          76,
          76,
          76,
          73,
          67,
          60,
          54,
          46,
          49,
          63,
          76,
          78
         ],
         "textposition": "top center",
         "type": "scatter",
         "x": [
          "January",
          "February",
          "March",
          "April",
          "May",
          "June",
          "July",
          "August",
          "September",
          "October",
          "November",
          "December"
         ],
         "y": [
          75.56,
          75.63,
          75.93,
          73.39,
          67.12,
          60.27,
          53.74,
          45.85,
          49.37,
          63.31,
          75.63,
          77.52
         ]
        }
       ],
       "layout": {
        "annotations": [
         {
          "font": {
           "color": "gray",
           "size": 10
          },
          "showarrow": false,
          "text": "Fonte: INMET, 2024",
          "x": 0,
          "xref": "paper",
          "y": -0.2,
          "yref": "paper"
         }
        ],
        "template": {
         "data": {
          "bar": [
           {
            "error_x": {
             "color": "#2a3f5f"
            },
            "error_y": {
             "color": "#2a3f5f"
            },
            "marker": {
             "line": {
              "color": "#E5ECF6",
              "width": 0.5
             },
             "pattern": {
              "fillmode": "overlay",
              "size": 10,
              "solidity": 0.2
             }
            },
            "type": "bar"
           }
          ],
          "barpolar": [
           {
            "marker": {
             "line": {
              "color": "#E5ECF6",
              "width": 0.5
             },
             "pattern": {
              "fillmode": "overlay",
              "size": 10,
              "solidity": 0.2
             }
            },
            "type": "barpolar"
           }
          ],
          "carpet": [
           {
            "aaxis": {
             "endlinecolor": "#2a3f5f",
             "gridcolor": "white",
             "linecolor": "white",
             "minorgridcolor": "white",
             "startlinecolor": "#2a3f5f"
            },
            "baxis": {
             "endlinecolor": "#2a3f5f",
             "gridcolor": "white",
             "linecolor": "white",
             "minorgridcolor": "white",
             "startlinecolor": "#2a3f5f"
            },
            "type": "carpet"
           }
          ],
          "choropleth": [
           {
            "colorbar": {
             "outlinewidth": 0,
             "ticks": ""
            },
            "type": "choropleth"
           }
          ],
          "contour": [
           {
            "colorbar": {
             "outlinewidth": 0,
             "ticks": ""
            },
            "colorscale": [
             [
              0,
              "#0d0887"
             ],
             [
              0.1111111111111111,
              "#46039f"
             ],
             [
              0.2222222222222222,
              "#7201a8"
             ],
             [
              0.3333333333333333,
              "#9c179e"
             ],
             [
              0.4444444444444444,
              "#bd3786"
             ],
             [
              0.5555555555555556,
              "#d8576b"
             ],
             [
              0.6666666666666666,
              "#ed7953"
             ],
             [
              0.7777777777777778,
              "#fb9f3a"
             ],
             [
              0.8888888888888888,
              "#fdca26"
             ],
             [
              1,
              "#f0f921"
             ]
            ],
            "type": "contour"
           }
          ],
          "contourcarpet": [
           {
            "colorbar": {
             "outlinewidth": 0,
             "ticks": ""
            },
            "type": "contourcarpet"
           }
          ],
          "heatmap": [
           {
            "colorbar": {
             "outlinewidth": 0,
             "ticks": ""
            },
            "colorscale": [
             [
              0,
              "#0d0887"
             ],
             [
              0.1111111111111111,
              "#46039f"
             ],
             [
              0.2222222222222222,
              "#7201a8"
             ],
             [
              0.3333333333333333,
              "#9c179e"
             ],
             [
              0.4444444444444444,
              "#bd3786"
             ],
             [
              0.5555555555555556,
              "#d8576b"
             ],
             [
              0.6666666666666666,
              "#ed7953"
             ],
             [
              0.7777777777777778,
              "#fb9f3a"
             ],
             [
              0.8888888888888888,
              "#fdca26"
             ],
             [
              1,
              "#f0f921"
             ]
            ],
            "type": "heatmap"
           }
          ],
          "heatmapgl": [
           {
            "colorbar": {
             "outlinewidth": 0,
             "ticks": ""
            },
            "colorscale": [
             [
              0,
              "#0d0887"
             ],
             [
              0.1111111111111111,
              "#46039f"
             ],
             [
              0.2222222222222222,
              "#7201a8"
             ],
             [
              0.3333333333333333,
              "#9c179e"
             ],
             [
              0.4444444444444444,
              "#bd3786"
             ],
             [
              0.5555555555555556,
              "#d8576b"
             ],
             [
              0.6666666666666666,
              "#ed7953"
             ],
             [
              0.7777777777777778,
              "#fb9f3a"
             ],
             [
              0.8888888888888888,
              "#fdca26"
             ],
             [
              1,
              "#f0f921"
             ]
            ],
            "type": "heatmapgl"
           }
          ],
          "histogram": [
           {
            "marker": {
             "pattern": {
              "fillmode": "overlay",
              "size": 10,
              "solidity": 0.2
             }
            },
            "type": "histogram"
           }
          ],
          "histogram2d": [
           {
            "colorbar": {
             "outlinewidth": 0,
             "ticks": ""
            },
            "colorscale": [
             [
              0,
              "#0d0887"
             ],
             [
              0.1111111111111111,
              "#46039f"
             ],
             [
              0.2222222222222222,
              "#7201a8"
             ],
             [
              0.3333333333333333,
              "#9c179e"
             ],
             [
              0.4444444444444444,
              "#bd3786"
             ],
             [
              0.5555555555555556,
              "#d8576b"
             ],
             [
              0.6666666666666666,
              "#ed7953"
             ],
             [
              0.7777777777777778,
              "#fb9f3a"
             ],
             [
              0.8888888888888888,
              "#fdca26"
             ],
             [
              1,
              "#f0f921"
             ]
            ],
            "type": "histogram2d"
           }
          ],
          "histogram2dcontour": [
           {
            "colorbar": {
             "outlinewidth": 0,
             "ticks": ""
            },
            "colorscale": [
             [
              0,
              "#0d0887"
             ],
             [
              0.1111111111111111,
              "#46039f"
             ],
             [
              0.2222222222222222,
              "#7201a8"
             ],
             [
              0.3333333333333333,
              "#9c179e"
             ],
             [
              0.4444444444444444,
              "#bd3786"
             ],
             [
              0.5555555555555556,
              "#d8576b"
             ],
             [
              0.6666666666666666,
              "#ed7953"
             ],
             [
              0.7777777777777778,
              "#fb9f3a"
             ],
             [
              0.8888888888888888,
              "#fdca26"
             ],
             [
              1,
              "#f0f921"
             ]
            ],
            "type": "histogram2dcontour"
           }
          ],
          "mesh3d": [
           {
            "colorbar": {
             "outlinewidth": 0,
             "ticks": ""
            },
            "type": "mesh3d"
           }
          ],
          "parcoords": [
           {
            "line": {
             "colorbar": {
              "outlinewidth": 0,
              "ticks": ""
             }
            },
            "type": "parcoords"
           }
          ],
          "pie": [
           {
            "automargin": true,
            "type": "pie"
           }
          ],
          "scatter": [
           {
            "fillpattern": {
             "fillmode": "overlay",
             "size": 10,
             "solidity": 0.2
            },
            "type": "scatter"
           }
          ],
          "scatter3d": [
           {
            "line": {
             "colorbar": {
              "outlinewidth": 0,
              "ticks": ""
             }
            },
            "marker": {
             "colorbar": {
              "outlinewidth": 0,
              "ticks": ""
             }
            },
            "type": "scatter3d"
           }
          ],
          "scattercarpet": [
           {
            "marker": {
             "colorbar": {
              "outlinewidth": 0,
              "ticks": ""
             }
            },
            "type": "scattercarpet"
           }
          ],
          "scattergeo": [
           {
            "marker": {
             "colorbar": {
              "outlinewidth": 0,
              "ticks": ""
             }
            },
            "type": "scattergeo"
           }
          ],
          "scattergl": [
           {
            "marker": {
             "colorbar": {
              "outlinewidth": 0,
              "ticks": ""
             }
            },
            "type": "scattergl"
           }
          ],
          "scattermapbox": [
           {
            "marker": {
             "colorbar": {
              "outlinewidth": 0,
              "ticks": ""
             }
            },
            "type": "scattermapbox"
           }
          ],
          "scatterpolar": [
           {
            "marker": {
             "colorbar": {
              "outlinewidth": 0,
              "ticks": ""
             }
            },
            "type": "scatterpolar"
           }
          ],
          "scatterpolargl": [
           {
            "marker": {
             "colorbar": {
              "outlinewidth": 0,
              "ticks": ""
             }
            },
            "type": "scatterpolargl"
           }
          ],
          "scatterternary": [
           {
            "marker": {
             "colorbar": {
              "outlinewidth": 0,
              "ticks": ""
             }
            },
            "type": "scatterternary"
           }
          ],
          "surface": [
           {
            "colorbar": {
             "outlinewidth": 0,
             "ticks": ""
            },
            "colorscale": [
             [
              0,
              "#0d0887"
             ],
             [
              0.1111111111111111,
              "#46039f"
             ],
             [
              0.2222222222222222,
              "#7201a8"
             ],
             [
              0.3333333333333333,
              "#9c179e"
             ],
             [
              0.4444444444444444,
              "#bd3786"
             ],
             [
              0.5555555555555556,
              "#d8576b"
             ],
             [
              0.6666666666666666,
              "#ed7953"
             ],
             [
              0.7777777777777778,
              "#fb9f3a"
             ],
             [
              0.8888888888888888,
              "#fdca26"
             ],
             [
              1,
              "#f0f921"
             ]
            ],
            "type": "surface"
           }
          ],
          "table": [
           {
            "cells": {
             "fill": {
              "color": "#EBF0F8"
             },
             "line": {
              "color": "white"
             }
            },
            "header": {
             "fill": {
              "color": "#C8D4E3"
             },
             "line": {
              "color": "white"
             }
            },
            "type": "table"
           }
          ]
         },
         "layout": {
          "annotationdefaults": {
           "arrowcolor": "#2a3f5f",
           "arrowhead": 0,
           "arrowwidth": 1
          },
          "autotypenumbers": "strict",
          "coloraxis": {
           "colorbar": {
            "outlinewidth": 0,
            "ticks": ""
           }
          },
          "colorscale": {
           "diverging": [
            [
             0,
             "#8e0152"
            ],
            [
             0.1,
             "#c51b7d"
            ],
            [
             0.2,
             "#de77ae"
            ],
            [
             0.3,
             "#f1b6da"
            ],
            [
             0.4,
             "#fde0ef"
            ],
            [
             0.5,
             "#f7f7f7"
            ],
            [
             0.6,
             "#e6f5d0"
            ],
            [
             0.7,
             "#b8e186"
            ],
            [
             0.8,
             "#7fbc41"
            ],
            [
             0.9,
             "#4d9221"
            ],
            [
             1,
             "#276419"
            ]
           ],
           "sequential": [
            [
             0,
             "#0d0887"
            ],
            [
             0.1111111111111111,
             "#46039f"
            ],
            [
             0.2222222222222222,
             "#7201a8"
            ],
            [
             0.3333333333333333,
             "#9c179e"
            ],
            [
             0.4444444444444444,
             "#bd3786"
            ],
            [
             0.5555555555555556,
             "#d8576b"
            ],
            [
             0.6666666666666666,
             "#ed7953"
            ],
            [
             0.7777777777777778,
             "#fb9f3a"
            ],
            [
             0.8888888888888888,
             "#fdca26"
            ],
            [
             1,
             "#f0f921"
            ]
           ],
           "sequentialminus": [
            [
             0,
             "#0d0887"
            ],
            [
             0.1111111111111111,
             "#46039f"
            ],
            [
             0.2222222222222222,
             "#7201a8"
            ],
            [
             0.3333333333333333,
             "#9c179e"
            ],
            [
             0.4444444444444444,
             "#bd3786"
            ],
            [
             0.5555555555555556,
             "#d8576b"
            ],
            [
             0.6666666666666666,
             "#ed7953"
            ],
            [
             0.7777777777777778,
             "#fb9f3a"
            ],
            [
             0.8888888888888888,
             "#fdca26"
            ],
            [
             1,
             "#f0f921"
            ]
           ]
          },
          "colorway": [
           "#636efa",
           "#EF553B",
           "#00cc96",
           "#ab63fa",
           "#FFA15A",
           "#19d3f3",
           "#FF6692",
           "#B6E880",
           "#FF97FF",
           "#FECB52"
          ],
          "font": {
           "color": "#2a3f5f"
          },
          "geo": {
           "bgcolor": "white",
           "lakecolor": "white",
           "landcolor": "#E5ECF6",
           "showlakes": true,
           "showland": true,
           "subunitcolor": "white"
          },
          "hoverlabel": {
           "align": "left"
          },
          "hovermode": "closest",
          "mapbox": {
           "style": "light"
          },
          "paper_bgcolor": "white",
          "plot_bgcolor": "#E5ECF6",
          "polar": {
           "angularaxis": {
            "gridcolor": "white",
            "linecolor": "white",
            "ticks": ""
           },
           "bgcolor": "#E5ECF6",
           "radialaxis": {
            "gridcolor": "white",
            "linecolor": "white",
            "ticks": ""
           }
          },
          "scene": {
           "xaxis": {
            "backgroundcolor": "#E5ECF6",
            "gridcolor": "white",
            "gridwidth": 2,
            "linecolor": "white",
            "showbackground": true,
            "ticks": "",
            "zerolinecolor": "white"
           },
           "yaxis": {
            "backgroundcolor": "#E5ECF6",
            "gridcolor": "white",
            "gridwidth": 2,
            "linecolor": "white",
            "showbackground": true,
            "ticks": "",
            "zerolinecolor": "white"
           },
           "zaxis": {
            "backgroundcolor": "#E5ECF6",
            "gridcolor": "white",
            "gridwidth": 2,
            "linecolor": "white",
            "showbackground": true,
            "ticks": "",
            "zerolinecolor": "white"
           }
          },
          "shapedefaults": {
           "line": {
            "color": "#2a3f5f"
           }
          },
          "ternary": {
           "aaxis": {
            "gridcolor": "white",
            "linecolor": "white",
            "ticks": ""
           },
           "baxis": {
            "gridcolor": "white",
            "linecolor": "white",
            "ticks": ""
           },
           "bgcolor": "#E5ECF6",
           "caxis": {
            "gridcolor": "white",
            "linecolor": "white",
            "ticks": ""
           }
          },
          "title": {
           "x": 0.05
          },
          "xaxis": {
           "automargin": true,
           "gridcolor": "white",
           "linecolor": "white",
           "ticks": "",
           "title": {
            "standoff": 15
           },
           "zerolinecolor": "white",
           "zerolinewidth": 2
          },
          "yaxis": {
           "automargin": true,
           "gridcolor": "white",
           "linecolor": "white",
           "ticks": "",
           "title": {
            "standoff": 15
           },
           "zerolinecolor": "white",
           "zerolinewidth": 2
          }
         }
        },
        "title": {
         "text": "Média histórica de umidade relativa do ar no Distrito Federal (1961 - 2023)"
        },
        "xaxis": {
         "ticktext": [
          "S",
          "O",
          "N",
          "D",
          "J/E",
          "F",
          "M",
          "A",
          "M",
          "J",
          "J",
          "A"
         ],
         "tickvals": [
          "September",
          "October",
          "November",
          "December",
          "January",
          "February",
          "March",
          "April",
          "May",
          "June",
          "July",
          "August"
         ]
        },
        "yaxis": {
         "range": [
          0,
          85
         ],
         "title": {
          "text": "Média da umidade (%)"
         }
        }
       }
      }
     },
     "metadata": {},
     "output_type": "display_data"
    }
   ],
   "source": [
    "# Criar o gráfico\n",
    "fig = go.Figure()\n",
    "\n",
    "# Adicionar o trace com os dados ordenados\n",
    "fig.add_trace(go.Scatter(x=est_brasilia_umidade_media_ano['MÊS'], \n",
    "                         y=round(est_brasilia_umidade_media_ano['UMIDADE RELATIVA DO AR, MEDIA DIARIA(%)'], 2), \n",
    "                         mode='lines+markers+text', \n",
    "                         text = round(est_brasilia_umidade_media_ano['UMIDADE RELATIVA DO AR, MEDIA DIARIA(%)'], 0),\n",
    "                         textposition='top center',\n",
    "                         name='Estação Convencional Inmet (1961 - 2023)'))\n",
    "\n",
    "# Atualizar o layout para garantir que o eixo x comece pelo mês 9\n",
    "fig.update_layout(\n",
    "    xaxis=dict(\n",
    "        tickvals=['September', 'October', 'November', 'December', 'January', 'February',\n",
    "                  'March', 'April', 'May', 'June', 'July', 'August'],  # Ordenação do eixo X começando pelo mês 9\n",
    "        ticktext=['S', 'O', 'N', 'D', 'J/E', 'F', 'M', 'A', 'M', 'J', 'J', 'A'],  # Abreviações dos meses\n",
    "        # title=\"Mês\"\n",
    "    ),\n",
    "    yaxis = dict(\n",
    "        title = 'Média da umidade (%)',\n",
    "        range = [0, 85]\n",
    "    ),\n",
    "    title=\"Média histórica de umidade relativa do ar no Distrito Federal (1961 - 2023)\", # Título do gráfico\n",
    "    # Adicionar a anotação com a fonte dos dados\n",
    "    annotations = [\n",
    "        dict(\n",
    "            x=0, y=-0.2,  # Posição da fonte no layout (ajuste conforme necessário)\n",
    "            xref=\"paper\", yref=\"paper\",\n",
    "            text=\"Fonte: INMET, 2024\",  # Texto da fonte\n",
    "            showarrow=False,\n",
    "            font=dict(size=10, color=\"gray\")\n",
    "        )\n",
    "    ]\n",
    ")\n"
   ]
  },
  {
   "cell_type": "code",
   "execution_count": 23,
   "metadata": {},
   "outputs": [],
   "source": [
    "# Exportar o df para um arquivo csv\n",
    "\n",
    "# est_brasilia_umidade_media_ano.rename(\n",
    "#     columns={'NUM_MÊS':'num_mes',\n",
    "#                 'MÊS':'nm_mes',\n",
    "#                 'UMIDADE RELATIVA DO AR, MEDIA DIARIA(%)':'umidade_relativa_ar_media_%'\n",
    "#              }, inplace=True)\n",
    "\n",
    "# est_brasilia_umidade_media_ano['umidade_relativa_ar_media_%'] = round(est_brasilia_umidade_media_ano['umidade_relativa_ar_media_%'], 2)\n",
    "\n",
    "# if not os.path.exists(caminho_arquivo('resultado')):\n",
    "#     os.makedirs(caminho_arquivo('resultado'))\n",
    "# est_brasilia_umidade_media_ano.to_csv(caminho_arquivo('resultado/est_brasilia_umidade_media_ano.csv'), index=False)"
   ]
  },
  {
   "cell_type": "markdown",
   "metadata": {},
   "source": [
    "#### CALCULAR\n",
    "- TEMPERATURA MAX MENSAL = MÉDIA DA TEMPERATURA MAX DE CADA DIA DO MÊS PARA CADA ANO\n",
    "- TEMPERATURA MAX ANUAL = MÉDIA DA TEMPERATURA MAX DE CADA MÊS PARA TODOS OS ANOS"
   ]
  },
  {
   "cell_type": "code",
   "execution_count": 24,
   "metadata": {},
   "outputs": [],
   "source": [
    "est_brasilia_max_media_mes = calcular_media_mes(est_brasilia_select_max, ['ANO','NUM_MÊS','MÊS'], 'TEMPERATURA MAXIMA, DIARIA(°C)')"
   ]
  },
  {
   "cell_type": "code",
   "execution_count": 25,
   "metadata": {},
   "outputs": [],
   "source": [
    "est_brasilia_max_media_ano = calcular_media_ano_completo(est_brasilia_max_media_mes, ['NUM_MÊS','MÊS'], 'TEMPERATURA MAXIMA, DIARIA(°C)')"
   ]
  },
  {
   "cell_type": "code",
   "execution_count": 26,
   "metadata": {},
   "outputs": [
    {
     "data": {
      "application/vnd.plotly.v1+json": {
       "config": {
        "plotlyServerURL": "https://plot.ly"
       },
       "data": [
        {
         "mode": "lines+markers+text",
         "name": "Estação Convencional Inmet (1961 - 2023)",
         "text": [
          27,
          27,
          27,
          27,
          26,
          25,
          25,
          27,
          29,
          28,
          27,
          27
         ],
         "textposition": "top center",
         "type": "scatter",
         "x": [
          "January",
          "February",
          "March",
          "April",
          "May",
          "June",
          "July",
          "August",
          "September",
          "October",
          "November",
          "December"
         ],
         "y": [
          26.85,
          27,
          27.09,
          26.76,
          25.97,
          25.36,
          25.48,
          27.41,
          28.85,
          28.35,
          26.83,
          26.56
         ]
        }
       ],
       "layout": {
        "annotations": [
         {
          "font": {
           "color": "gray",
           "size": 10
          },
          "showarrow": false,
          "text": "Fonte: INMET, 2024",
          "x": 0,
          "xref": "paper",
          "y": -0.2,
          "yref": "paper"
         }
        ],
        "template": {
         "data": {
          "bar": [
           {
            "error_x": {
             "color": "#2a3f5f"
            },
            "error_y": {
             "color": "#2a3f5f"
            },
            "marker": {
             "line": {
              "color": "#E5ECF6",
              "width": 0.5
             },
             "pattern": {
              "fillmode": "overlay",
              "size": 10,
              "solidity": 0.2
             }
            },
            "type": "bar"
           }
          ],
          "barpolar": [
           {
            "marker": {
             "line": {
              "color": "#E5ECF6",
              "width": 0.5
             },
             "pattern": {
              "fillmode": "overlay",
              "size": 10,
              "solidity": 0.2
             }
            },
            "type": "barpolar"
           }
          ],
          "carpet": [
           {
            "aaxis": {
             "endlinecolor": "#2a3f5f",
             "gridcolor": "white",
             "linecolor": "white",
             "minorgridcolor": "white",
             "startlinecolor": "#2a3f5f"
            },
            "baxis": {
             "endlinecolor": "#2a3f5f",
             "gridcolor": "white",
             "linecolor": "white",
             "minorgridcolor": "white",
             "startlinecolor": "#2a3f5f"
            },
            "type": "carpet"
           }
          ],
          "choropleth": [
           {
            "colorbar": {
             "outlinewidth": 0,
             "ticks": ""
            },
            "type": "choropleth"
           }
          ],
          "contour": [
           {
            "colorbar": {
             "outlinewidth": 0,
             "ticks": ""
            },
            "colorscale": [
             [
              0,
              "#0d0887"
             ],
             [
              0.1111111111111111,
              "#46039f"
             ],
             [
              0.2222222222222222,
              "#7201a8"
             ],
             [
              0.3333333333333333,
              "#9c179e"
             ],
             [
              0.4444444444444444,
              "#bd3786"
             ],
             [
              0.5555555555555556,
              "#d8576b"
             ],
             [
              0.6666666666666666,
              "#ed7953"
             ],
             [
              0.7777777777777778,
              "#fb9f3a"
             ],
             [
              0.8888888888888888,
              "#fdca26"
             ],
             [
              1,
              "#f0f921"
             ]
            ],
            "type": "contour"
           }
          ],
          "contourcarpet": [
           {
            "colorbar": {
             "outlinewidth": 0,
             "ticks": ""
            },
            "type": "contourcarpet"
           }
          ],
          "heatmap": [
           {
            "colorbar": {
             "outlinewidth": 0,
             "ticks": ""
            },
            "colorscale": [
             [
              0,
              "#0d0887"
             ],
             [
              0.1111111111111111,
              "#46039f"
             ],
             [
              0.2222222222222222,
              "#7201a8"
             ],
             [
              0.3333333333333333,
              "#9c179e"
             ],
             [
              0.4444444444444444,
              "#bd3786"
             ],
             [
              0.5555555555555556,
              "#d8576b"
             ],
             [
              0.6666666666666666,
              "#ed7953"
             ],
             [
              0.7777777777777778,
              "#fb9f3a"
             ],
             [
              0.8888888888888888,
              "#fdca26"
             ],
             [
              1,
              "#f0f921"
             ]
            ],
            "type": "heatmap"
           }
          ],
          "heatmapgl": [
           {
            "colorbar": {
             "outlinewidth": 0,
             "ticks": ""
            },
            "colorscale": [
             [
              0,
              "#0d0887"
             ],
             [
              0.1111111111111111,
              "#46039f"
             ],
             [
              0.2222222222222222,
              "#7201a8"
             ],
             [
              0.3333333333333333,
              "#9c179e"
             ],
             [
              0.4444444444444444,
              "#bd3786"
             ],
             [
              0.5555555555555556,
              "#d8576b"
             ],
             [
              0.6666666666666666,
              "#ed7953"
             ],
             [
              0.7777777777777778,
              "#fb9f3a"
             ],
             [
              0.8888888888888888,
              "#fdca26"
             ],
             [
              1,
              "#f0f921"
             ]
            ],
            "type": "heatmapgl"
           }
          ],
          "histogram": [
           {
            "marker": {
             "pattern": {
              "fillmode": "overlay",
              "size": 10,
              "solidity": 0.2
             }
            },
            "type": "histogram"
           }
          ],
          "histogram2d": [
           {
            "colorbar": {
             "outlinewidth": 0,
             "ticks": ""
            },
            "colorscale": [
             [
              0,
              "#0d0887"
             ],
             [
              0.1111111111111111,
              "#46039f"
             ],
             [
              0.2222222222222222,
              "#7201a8"
             ],
             [
              0.3333333333333333,
              "#9c179e"
             ],
             [
              0.4444444444444444,
              "#bd3786"
             ],
             [
              0.5555555555555556,
              "#d8576b"
             ],
             [
              0.6666666666666666,
              "#ed7953"
             ],
             [
              0.7777777777777778,
              "#fb9f3a"
             ],
             [
              0.8888888888888888,
              "#fdca26"
             ],
             [
              1,
              "#f0f921"
             ]
            ],
            "type": "histogram2d"
           }
          ],
          "histogram2dcontour": [
           {
            "colorbar": {
             "outlinewidth": 0,
             "ticks": ""
            },
            "colorscale": [
             [
              0,
              "#0d0887"
             ],
             [
              0.1111111111111111,
              "#46039f"
             ],
             [
              0.2222222222222222,
              "#7201a8"
             ],
             [
              0.3333333333333333,
              "#9c179e"
             ],
             [
              0.4444444444444444,
              "#bd3786"
             ],
             [
              0.5555555555555556,
              "#d8576b"
             ],
             [
              0.6666666666666666,
              "#ed7953"
             ],
             [
              0.7777777777777778,
              "#fb9f3a"
             ],
             [
              0.8888888888888888,
              "#fdca26"
             ],
             [
              1,
              "#f0f921"
             ]
            ],
            "type": "histogram2dcontour"
           }
          ],
          "mesh3d": [
           {
            "colorbar": {
             "outlinewidth": 0,
             "ticks": ""
            },
            "type": "mesh3d"
           }
          ],
          "parcoords": [
           {
            "line": {
             "colorbar": {
              "outlinewidth": 0,
              "ticks": ""
             }
            },
            "type": "parcoords"
           }
          ],
          "pie": [
           {
            "automargin": true,
            "type": "pie"
           }
          ],
          "scatter": [
           {
            "fillpattern": {
             "fillmode": "overlay",
             "size": 10,
             "solidity": 0.2
            },
            "type": "scatter"
           }
          ],
          "scatter3d": [
           {
            "line": {
             "colorbar": {
              "outlinewidth": 0,
              "ticks": ""
             }
            },
            "marker": {
             "colorbar": {
              "outlinewidth": 0,
              "ticks": ""
             }
            },
            "type": "scatter3d"
           }
          ],
          "scattercarpet": [
           {
            "marker": {
             "colorbar": {
              "outlinewidth": 0,
              "ticks": ""
             }
            },
            "type": "scattercarpet"
           }
          ],
          "scattergeo": [
           {
            "marker": {
             "colorbar": {
              "outlinewidth": 0,
              "ticks": ""
             }
            },
            "type": "scattergeo"
           }
          ],
          "scattergl": [
           {
            "marker": {
             "colorbar": {
              "outlinewidth": 0,
              "ticks": ""
             }
            },
            "type": "scattergl"
           }
          ],
          "scattermapbox": [
           {
            "marker": {
             "colorbar": {
              "outlinewidth": 0,
              "ticks": ""
             }
            },
            "type": "scattermapbox"
           }
          ],
          "scatterpolar": [
           {
            "marker": {
             "colorbar": {
              "outlinewidth": 0,
              "ticks": ""
             }
            },
            "type": "scatterpolar"
           }
          ],
          "scatterpolargl": [
           {
            "marker": {
             "colorbar": {
              "outlinewidth": 0,
              "ticks": ""
             }
            },
            "type": "scatterpolargl"
           }
          ],
          "scatterternary": [
           {
            "marker": {
             "colorbar": {
              "outlinewidth": 0,
              "ticks": ""
             }
            },
            "type": "scatterternary"
           }
          ],
          "surface": [
           {
            "colorbar": {
             "outlinewidth": 0,
             "ticks": ""
            },
            "colorscale": [
             [
              0,
              "#0d0887"
             ],
             [
              0.1111111111111111,
              "#46039f"
             ],
             [
              0.2222222222222222,
              "#7201a8"
             ],
             [
              0.3333333333333333,
              "#9c179e"
             ],
             [
              0.4444444444444444,
              "#bd3786"
             ],
             [
              0.5555555555555556,
              "#d8576b"
             ],
             [
              0.6666666666666666,
              "#ed7953"
             ],
             [
              0.7777777777777778,
              "#fb9f3a"
             ],
             [
              0.8888888888888888,
              "#fdca26"
             ],
             [
              1,
              "#f0f921"
             ]
            ],
            "type": "surface"
           }
          ],
          "table": [
           {
            "cells": {
             "fill": {
              "color": "#EBF0F8"
             },
             "line": {
              "color": "white"
             }
            },
            "header": {
             "fill": {
              "color": "#C8D4E3"
             },
             "line": {
              "color": "white"
             }
            },
            "type": "table"
           }
          ]
         },
         "layout": {
          "annotationdefaults": {
           "arrowcolor": "#2a3f5f",
           "arrowhead": 0,
           "arrowwidth": 1
          },
          "autotypenumbers": "strict",
          "coloraxis": {
           "colorbar": {
            "outlinewidth": 0,
            "ticks": ""
           }
          },
          "colorscale": {
           "diverging": [
            [
             0,
             "#8e0152"
            ],
            [
             0.1,
             "#c51b7d"
            ],
            [
             0.2,
             "#de77ae"
            ],
            [
             0.3,
             "#f1b6da"
            ],
            [
             0.4,
             "#fde0ef"
            ],
            [
             0.5,
             "#f7f7f7"
            ],
            [
             0.6,
             "#e6f5d0"
            ],
            [
             0.7,
             "#b8e186"
            ],
            [
             0.8,
             "#7fbc41"
            ],
            [
             0.9,
             "#4d9221"
            ],
            [
             1,
             "#276419"
            ]
           ],
           "sequential": [
            [
             0,
             "#0d0887"
            ],
            [
             0.1111111111111111,
             "#46039f"
            ],
            [
             0.2222222222222222,
             "#7201a8"
            ],
            [
             0.3333333333333333,
             "#9c179e"
            ],
            [
             0.4444444444444444,
             "#bd3786"
            ],
            [
             0.5555555555555556,
             "#d8576b"
            ],
            [
             0.6666666666666666,
             "#ed7953"
            ],
            [
             0.7777777777777778,
             "#fb9f3a"
            ],
            [
             0.8888888888888888,
             "#fdca26"
            ],
            [
             1,
             "#f0f921"
            ]
           ],
           "sequentialminus": [
            [
             0,
             "#0d0887"
            ],
            [
             0.1111111111111111,
             "#46039f"
            ],
            [
             0.2222222222222222,
             "#7201a8"
            ],
            [
             0.3333333333333333,
             "#9c179e"
            ],
            [
             0.4444444444444444,
             "#bd3786"
            ],
            [
             0.5555555555555556,
             "#d8576b"
            ],
            [
             0.6666666666666666,
             "#ed7953"
            ],
            [
             0.7777777777777778,
             "#fb9f3a"
            ],
            [
             0.8888888888888888,
             "#fdca26"
            ],
            [
             1,
             "#f0f921"
            ]
           ]
          },
          "colorway": [
           "#636efa",
           "#EF553B",
           "#00cc96",
           "#ab63fa",
           "#FFA15A",
           "#19d3f3",
           "#FF6692",
           "#B6E880",
           "#FF97FF",
           "#FECB52"
          ],
          "font": {
           "color": "#2a3f5f"
          },
          "geo": {
           "bgcolor": "white",
           "lakecolor": "white",
           "landcolor": "#E5ECF6",
           "showlakes": true,
           "showland": true,
           "subunitcolor": "white"
          },
          "hoverlabel": {
           "align": "left"
          },
          "hovermode": "closest",
          "mapbox": {
           "style": "light"
          },
          "paper_bgcolor": "white",
          "plot_bgcolor": "#E5ECF6",
          "polar": {
           "angularaxis": {
            "gridcolor": "white",
            "linecolor": "white",
            "ticks": ""
           },
           "bgcolor": "#E5ECF6",
           "radialaxis": {
            "gridcolor": "white",
            "linecolor": "white",
            "ticks": ""
           }
          },
          "scene": {
           "xaxis": {
            "backgroundcolor": "#E5ECF6",
            "gridcolor": "white",
            "gridwidth": 2,
            "linecolor": "white",
            "showbackground": true,
            "ticks": "",
            "zerolinecolor": "white"
           },
           "yaxis": {
            "backgroundcolor": "#E5ECF6",
            "gridcolor": "white",
            "gridwidth": 2,
            "linecolor": "white",
            "showbackground": true,
            "ticks": "",
            "zerolinecolor": "white"
           },
           "zaxis": {
            "backgroundcolor": "#E5ECF6",
            "gridcolor": "white",
            "gridwidth": 2,
            "linecolor": "white",
            "showbackground": true,
            "ticks": "",
            "zerolinecolor": "white"
           }
          },
          "shapedefaults": {
           "line": {
            "color": "#2a3f5f"
           }
          },
          "ternary": {
           "aaxis": {
            "gridcolor": "white",
            "linecolor": "white",
            "ticks": ""
           },
           "baxis": {
            "gridcolor": "white",
            "linecolor": "white",
            "ticks": ""
           },
           "bgcolor": "#E5ECF6",
           "caxis": {
            "gridcolor": "white",
            "linecolor": "white",
            "ticks": ""
           }
          },
          "title": {
           "x": 0.05
          },
          "xaxis": {
           "automargin": true,
           "gridcolor": "white",
           "linecolor": "white",
           "ticks": "",
           "title": {
            "standoff": 15
           },
           "zerolinecolor": "white",
           "zerolinewidth": 2
          },
          "yaxis": {
           "automargin": true,
           "gridcolor": "white",
           "linecolor": "white",
           "ticks": "",
           "title": {
            "standoff": 15
           },
           "zerolinecolor": "white",
           "zerolinewidth": 2
          }
         }
        },
        "title": {
         "text": "Média histórica de temperatura máxima no Distrito Federal (1961 - 2023)"
        },
        "xaxis": {
         "ticktext": [
          "S",
          "O",
          "N",
          "D",
          "J/E",
          "F",
          "M",
          "A",
          "M",
          "J",
          "J",
          "A"
         ],
         "tickvals": [
          "September",
          "October",
          "November",
          "December",
          "January",
          "February",
          "March",
          "April",
          "May",
          "June",
          "July",
          "August"
         ]
        },
        "yaxis": {
         "range": [
          0,
          32
         ],
         "tickvals": [
          0,
          5,
          10,
          15,
          20,
          25,
          30
         ],
         "title": {
          "text": "Temperatura Máxima Média (°C)"
         }
        }
       }
      }
     },
     "metadata": {},
     "output_type": "display_data"
    }
   ],
   "source": [
    "# Criar o gráfico\n",
    "fig = go.Figure()\n",
    "\n",
    "# Adicionar o trace com os dados ordenados\n",
    "fig.add_trace(go.Scatter(x=est_brasilia_max_media_ano['MÊS'], \n",
    "                         y=round(est_brasilia_max_media_ano['TEMPERATURA MAXIMA, DIARIA(°C)'], 2), \n",
    "                         mode='lines+markers+text', \n",
    "                         text = round(est_brasilia_max_media_ano['TEMPERATURA MAXIMA, DIARIA(°C)'], 0),\n",
    "                         textposition='top center',\n",
    "                         name='Estação Convencional Inmet (1961 - 2023)'))\n",
    "\n",
    "# Atualizar o layout para garantir que o eixo x comece pelo mês 9\n",
    "fig.update_layout(\n",
    "    xaxis=dict(\n",
    "        tickvals=['September', 'October', 'November', 'December', 'January', 'February',\n",
    "                  'March', 'April', 'May', 'June', 'July', 'August'],  # Ordenação do eixo X começando pelo mês 9\n",
    "        ticktext=['S', 'O', 'N', 'D', 'J/E', 'F', 'M', 'A', 'M', 'J', 'J', 'A'],  # Abreviações dos meses\n",
    "        # title=\"Mês\"\n",
    "    ),\n",
    "    yaxis = dict(\n",
    "        title = 'Temperatura Máxima Média (°C)',\n",
    "        range = [0, 32],\n",
    "        tickvals = list(range(0,33, 5)),\n",
    "    ),\n",
    "    title=\"Média histórica de temperatura máxima no Distrito Federal (1961 - 2023)\", # Título do gráfico\n",
    "    # Adicionar a anotação com a fonte dos dados\n",
    "    annotations = [\n",
    "        dict(\n",
    "            x=0, y=-0.2,  # Posição da fonte no layout (ajuste conforme necessário)\n",
    "            xref=\"paper\", yref=\"paper\",\n",
    "            text=\"Fonte: INMET, 2024\",  # Texto da fonte\n",
    "            showarrow=False,\n",
    "            font=dict(size=10, color=\"gray\")\n",
    "        )\n",
    "    ]\n",
    ")\n"
   ]
  },
  {
   "cell_type": "code",
   "execution_count": 27,
   "metadata": {},
   "outputs": [],
   "source": [
    "# Exportar o df para um arquivo csv\n",
    "\n",
    "# est_brasilia_max_media_ano.rename(\n",
    "#     columns={'NUM_MÊS':'num_mes',\n",
    "#                 'MÊS':'nm_mes',\n",
    "#                 'TEMPERATURA MAXIMA, DIARIA(°C)':'temperatura_max_media_°C'\n",
    "#              }, inplace=True)\n",
    "\n",
    "# est_brasilia_max_media_ano['temperatura_max_media_°C'] = round(est_brasilia_max_media_ano['temperatura_max_media_°C'], 2)\n",
    "\n",
    "# if not os.path.exists(caminho_arquivo('resultado')):\n",
    "#     os.makedirs(caminho_arquivo('resultado'))\n",
    "# est_brasilia_max_media_ano.to_csv(caminho_arquivo('resultado/est_brasilia_max_media_ano.csv'), index=False)"
   ]
  },
  {
   "cell_type": "markdown",
   "metadata": {},
   "source": [
    "#### CALCULAR\n",
    "- TEMPERATURA MIN MENSAL = MÉDIA DA TEMPERATURA MIN DE CADA DIA DO MÊS PARA CADA ANO\n",
    "- TEMPERATURA MIN ANUAL = MÉDIA DA TEMPERATURA MIN DE CADA MÊS PARA TODOS OS ANOS"
   ]
  },
  {
   "cell_type": "code",
   "execution_count": 28,
   "metadata": {},
   "outputs": [],
   "source": [
    "est_brasilia_min_media_mes = calcular_media_mes(est_brasilia_select_min, ['ANO','NUM_MÊS','MÊS'], 'TEMPERATURA MINIMA, DIARIA(°C)')"
   ]
  },
  {
   "cell_type": "code",
   "execution_count": 29,
   "metadata": {},
   "outputs": [],
   "source": [
    "est_brasilia_min_media_ano = calcular_media_ano_completo(est_brasilia_min_media_mes, ['NUM_MÊS','MÊS'], 'TEMPERATURA MINIMA, DIARIA(°C)')"
   ]
  },
  {
   "cell_type": "code",
   "execution_count": 30,
   "metadata": {},
   "outputs": [
    {
     "data": {
      "application/vnd.plotly.v1+json": {
       "config": {
        "plotlyServerURL": "https://plot.ly"
       },
       "data": [
        {
         "mode": "lines+markers+text",
         "name": "Estação Convencional Inmet (1961 - 2023)",
         "text": [
          18,
          18,
          18,
          17,
          15,
          14,
          13,
          15,
          17,
          18,
          18,
          18
         ],
         "textposition": "top center",
         "type": "scatter",
         "x": [
          "January",
          "February",
          "March",
          "April",
          "May",
          "June",
          "July",
          "August",
          "September",
          "October",
          "November",
          "December"
         ],
         "y": [
          17.84,
          17.84,
          17.87,
          17.29,
          15.31,
          13.82,
          13.39,
          14.94,
          17.07,
          17.97,
          17.84,
          17.89
         ]
        }
       ],
       "layout": {
        "annotations": [
         {
          "font": {
           "color": "gray",
           "size": 10
          },
          "showarrow": false,
          "text": "Fonte: INMET, 2024",
          "x": 0,
          "xref": "paper",
          "y": -0.2,
          "yref": "paper"
         }
        ],
        "template": {
         "data": {
          "bar": [
           {
            "error_x": {
             "color": "#2a3f5f"
            },
            "error_y": {
             "color": "#2a3f5f"
            },
            "marker": {
             "line": {
              "color": "#E5ECF6",
              "width": 0.5
             },
             "pattern": {
              "fillmode": "overlay",
              "size": 10,
              "solidity": 0.2
             }
            },
            "type": "bar"
           }
          ],
          "barpolar": [
           {
            "marker": {
             "line": {
              "color": "#E5ECF6",
              "width": 0.5
             },
             "pattern": {
              "fillmode": "overlay",
              "size": 10,
              "solidity": 0.2
             }
            },
            "type": "barpolar"
           }
          ],
          "carpet": [
           {
            "aaxis": {
             "endlinecolor": "#2a3f5f",
             "gridcolor": "white",
             "linecolor": "white",
             "minorgridcolor": "white",
             "startlinecolor": "#2a3f5f"
            },
            "baxis": {
             "endlinecolor": "#2a3f5f",
             "gridcolor": "white",
             "linecolor": "white",
             "minorgridcolor": "white",
             "startlinecolor": "#2a3f5f"
            },
            "type": "carpet"
           }
          ],
          "choropleth": [
           {
            "colorbar": {
             "outlinewidth": 0,
             "ticks": ""
            },
            "type": "choropleth"
           }
          ],
          "contour": [
           {
            "colorbar": {
             "outlinewidth": 0,
             "ticks": ""
            },
            "colorscale": [
             [
              0,
              "#0d0887"
             ],
             [
              0.1111111111111111,
              "#46039f"
             ],
             [
              0.2222222222222222,
              "#7201a8"
             ],
             [
              0.3333333333333333,
              "#9c179e"
             ],
             [
              0.4444444444444444,
              "#bd3786"
             ],
             [
              0.5555555555555556,
              "#d8576b"
             ],
             [
              0.6666666666666666,
              "#ed7953"
             ],
             [
              0.7777777777777778,
              "#fb9f3a"
             ],
             [
              0.8888888888888888,
              "#fdca26"
             ],
             [
              1,
              "#f0f921"
             ]
            ],
            "type": "contour"
           }
          ],
          "contourcarpet": [
           {
            "colorbar": {
             "outlinewidth": 0,
             "ticks": ""
            },
            "type": "contourcarpet"
           }
          ],
          "heatmap": [
           {
            "colorbar": {
             "outlinewidth": 0,
             "ticks": ""
            },
            "colorscale": [
             [
              0,
              "#0d0887"
             ],
             [
              0.1111111111111111,
              "#46039f"
             ],
             [
              0.2222222222222222,
              "#7201a8"
             ],
             [
              0.3333333333333333,
              "#9c179e"
             ],
             [
              0.4444444444444444,
              "#bd3786"
             ],
             [
              0.5555555555555556,
              "#d8576b"
             ],
             [
              0.6666666666666666,
              "#ed7953"
             ],
             [
              0.7777777777777778,
              "#fb9f3a"
             ],
             [
              0.8888888888888888,
              "#fdca26"
             ],
             [
              1,
              "#f0f921"
             ]
            ],
            "type": "heatmap"
           }
          ],
          "heatmapgl": [
           {
            "colorbar": {
             "outlinewidth": 0,
             "ticks": ""
            },
            "colorscale": [
             [
              0,
              "#0d0887"
             ],
             [
              0.1111111111111111,
              "#46039f"
             ],
             [
              0.2222222222222222,
              "#7201a8"
             ],
             [
              0.3333333333333333,
              "#9c179e"
             ],
             [
              0.4444444444444444,
              "#bd3786"
             ],
             [
              0.5555555555555556,
              "#d8576b"
             ],
             [
              0.6666666666666666,
              "#ed7953"
             ],
             [
              0.7777777777777778,
              "#fb9f3a"
             ],
             [
              0.8888888888888888,
              "#fdca26"
             ],
             [
              1,
              "#f0f921"
             ]
            ],
            "type": "heatmapgl"
           }
          ],
          "histogram": [
           {
            "marker": {
             "pattern": {
              "fillmode": "overlay",
              "size": 10,
              "solidity": 0.2
             }
            },
            "type": "histogram"
           }
          ],
          "histogram2d": [
           {
            "colorbar": {
             "outlinewidth": 0,
             "ticks": ""
            },
            "colorscale": [
             [
              0,
              "#0d0887"
             ],
             [
              0.1111111111111111,
              "#46039f"
             ],
             [
              0.2222222222222222,
              "#7201a8"
             ],
             [
              0.3333333333333333,
              "#9c179e"
             ],
             [
              0.4444444444444444,
              "#bd3786"
             ],
             [
              0.5555555555555556,
              "#d8576b"
             ],
             [
              0.6666666666666666,
              "#ed7953"
             ],
             [
              0.7777777777777778,
              "#fb9f3a"
             ],
             [
              0.8888888888888888,
              "#fdca26"
             ],
             [
              1,
              "#f0f921"
             ]
            ],
            "type": "histogram2d"
           }
          ],
          "histogram2dcontour": [
           {
            "colorbar": {
             "outlinewidth": 0,
             "ticks": ""
            },
            "colorscale": [
             [
              0,
              "#0d0887"
             ],
             [
              0.1111111111111111,
              "#46039f"
             ],
             [
              0.2222222222222222,
              "#7201a8"
             ],
             [
              0.3333333333333333,
              "#9c179e"
             ],
             [
              0.4444444444444444,
              "#bd3786"
             ],
             [
              0.5555555555555556,
              "#d8576b"
             ],
             [
              0.6666666666666666,
              "#ed7953"
             ],
             [
              0.7777777777777778,
              "#fb9f3a"
             ],
             [
              0.8888888888888888,
              "#fdca26"
             ],
             [
              1,
              "#f0f921"
             ]
            ],
            "type": "histogram2dcontour"
           }
          ],
          "mesh3d": [
           {
            "colorbar": {
             "outlinewidth": 0,
             "ticks": ""
            },
            "type": "mesh3d"
           }
          ],
          "parcoords": [
           {
            "line": {
             "colorbar": {
              "outlinewidth": 0,
              "ticks": ""
             }
            },
            "type": "parcoords"
           }
          ],
          "pie": [
           {
            "automargin": true,
            "type": "pie"
           }
          ],
          "scatter": [
           {
            "fillpattern": {
             "fillmode": "overlay",
             "size": 10,
             "solidity": 0.2
            },
            "type": "scatter"
           }
          ],
          "scatter3d": [
           {
            "line": {
             "colorbar": {
              "outlinewidth": 0,
              "ticks": ""
             }
            },
            "marker": {
             "colorbar": {
              "outlinewidth": 0,
              "ticks": ""
             }
            },
            "type": "scatter3d"
           }
          ],
          "scattercarpet": [
           {
            "marker": {
             "colorbar": {
              "outlinewidth": 0,
              "ticks": ""
             }
            },
            "type": "scattercarpet"
           }
          ],
          "scattergeo": [
           {
            "marker": {
             "colorbar": {
              "outlinewidth": 0,
              "ticks": ""
             }
            },
            "type": "scattergeo"
           }
          ],
          "scattergl": [
           {
            "marker": {
             "colorbar": {
              "outlinewidth": 0,
              "ticks": ""
             }
            },
            "type": "scattergl"
           }
          ],
          "scattermapbox": [
           {
            "marker": {
             "colorbar": {
              "outlinewidth": 0,
              "ticks": ""
             }
            },
            "type": "scattermapbox"
           }
          ],
          "scatterpolar": [
           {
            "marker": {
             "colorbar": {
              "outlinewidth": 0,
              "ticks": ""
             }
            },
            "type": "scatterpolar"
           }
          ],
          "scatterpolargl": [
           {
            "marker": {
             "colorbar": {
              "outlinewidth": 0,
              "ticks": ""
             }
            },
            "type": "scatterpolargl"
           }
          ],
          "scatterternary": [
           {
            "marker": {
             "colorbar": {
              "outlinewidth": 0,
              "ticks": ""
             }
            },
            "type": "scatterternary"
           }
          ],
          "surface": [
           {
            "colorbar": {
             "outlinewidth": 0,
             "ticks": ""
            },
            "colorscale": [
             [
              0,
              "#0d0887"
             ],
             [
              0.1111111111111111,
              "#46039f"
             ],
             [
              0.2222222222222222,
              "#7201a8"
             ],
             [
              0.3333333333333333,
              "#9c179e"
             ],
             [
              0.4444444444444444,
              "#bd3786"
             ],
             [
              0.5555555555555556,
              "#d8576b"
             ],
             [
              0.6666666666666666,
              "#ed7953"
             ],
             [
              0.7777777777777778,
              "#fb9f3a"
             ],
             [
              0.8888888888888888,
              "#fdca26"
             ],
             [
              1,
              "#f0f921"
             ]
            ],
            "type": "surface"
           }
          ],
          "table": [
           {
            "cells": {
             "fill": {
              "color": "#EBF0F8"
             },
             "line": {
              "color": "white"
             }
            },
            "header": {
             "fill": {
              "color": "#C8D4E3"
             },
             "line": {
              "color": "white"
             }
            },
            "type": "table"
           }
          ]
         },
         "layout": {
          "annotationdefaults": {
           "arrowcolor": "#2a3f5f",
           "arrowhead": 0,
           "arrowwidth": 1
          },
          "autotypenumbers": "strict",
          "coloraxis": {
           "colorbar": {
            "outlinewidth": 0,
            "ticks": ""
           }
          },
          "colorscale": {
           "diverging": [
            [
             0,
             "#8e0152"
            ],
            [
             0.1,
             "#c51b7d"
            ],
            [
             0.2,
             "#de77ae"
            ],
            [
             0.3,
             "#f1b6da"
            ],
            [
             0.4,
             "#fde0ef"
            ],
            [
             0.5,
             "#f7f7f7"
            ],
            [
             0.6,
             "#e6f5d0"
            ],
            [
             0.7,
             "#b8e186"
            ],
            [
             0.8,
             "#7fbc41"
            ],
            [
             0.9,
             "#4d9221"
            ],
            [
             1,
             "#276419"
            ]
           ],
           "sequential": [
            [
             0,
             "#0d0887"
            ],
            [
             0.1111111111111111,
             "#46039f"
            ],
            [
             0.2222222222222222,
             "#7201a8"
            ],
            [
             0.3333333333333333,
             "#9c179e"
            ],
            [
             0.4444444444444444,
             "#bd3786"
            ],
            [
             0.5555555555555556,
             "#d8576b"
            ],
            [
             0.6666666666666666,
             "#ed7953"
            ],
            [
             0.7777777777777778,
             "#fb9f3a"
            ],
            [
             0.8888888888888888,
             "#fdca26"
            ],
            [
             1,
             "#f0f921"
            ]
           ],
           "sequentialminus": [
            [
             0,
             "#0d0887"
            ],
            [
             0.1111111111111111,
             "#46039f"
            ],
            [
             0.2222222222222222,
             "#7201a8"
            ],
            [
             0.3333333333333333,
             "#9c179e"
            ],
            [
             0.4444444444444444,
             "#bd3786"
            ],
            [
             0.5555555555555556,
             "#d8576b"
            ],
            [
             0.6666666666666666,
             "#ed7953"
            ],
            [
             0.7777777777777778,
             "#fb9f3a"
            ],
            [
             0.8888888888888888,
             "#fdca26"
            ],
            [
             1,
             "#f0f921"
            ]
           ]
          },
          "colorway": [
           "#636efa",
           "#EF553B",
           "#00cc96",
           "#ab63fa",
           "#FFA15A",
           "#19d3f3",
           "#FF6692",
           "#B6E880",
           "#FF97FF",
           "#FECB52"
          ],
          "font": {
           "color": "#2a3f5f"
          },
          "geo": {
           "bgcolor": "white",
           "lakecolor": "white",
           "landcolor": "#E5ECF6",
           "showlakes": true,
           "showland": true,
           "subunitcolor": "white"
          },
          "hoverlabel": {
           "align": "left"
          },
          "hovermode": "closest",
          "mapbox": {
           "style": "light"
          },
          "paper_bgcolor": "white",
          "plot_bgcolor": "#E5ECF6",
          "polar": {
           "angularaxis": {
            "gridcolor": "white",
            "linecolor": "white",
            "ticks": ""
           },
           "bgcolor": "#E5ECF6",
           "radialaxis": {
            "gridcolor": "white",
            "linecolor": "white",
            "ticks": ""
           }
          },
          "scene": {
           "xaxis": {
            "backgroundcolor": "#E5ECF6",
            "gridcolor": "white",
            "gridwidth": 2,
            "linecolor": "white",
            "showbackground": true,
            "ticks": "",
            "zerolinecolor": "white"
           },
           "yaxis": {
            "backgroundcolor": "#E5ECF6",
            "gridcolor": "white",
            "gridwidth": 2,
            "linecolor": "white",
            "showbackground": true,
            "ticks": "",
            "zerolinecolor": "white"
           },
           "zaxis": {
            "backgroundcolor": "#E5ECF6",
            "gridcolor": "white",
            "gridwidth": 2,
            "linecolor": "white",
            "showbackground": true,
            "ticks": "",
            "zerolinecolor": "white"
           }
          },
          "shapedefaults": {
           "line": {
            "color": "#2a3f5f"
           }
          },
          "ternary": {
           "aaxis": {
            "gridcolor": "white",
            "linecolor": "white",
            "ticks": ""
           },
           "baxis": {
            "gridcolor": "white",
            "linecolor": "white",
            "ticks": ""
           },
           "bgcolor": "#E5ECF6",
           "caxis": {
            "gridcolor": "white",
            "linecolor": "white",
            "ticks": ""
           }
          },
          "title": {
           "x": 0.05
          },
          "xaxis": {
           "automargin": true,
           "gridcolor": "white",
           "linecolor": "white",
           "ticks": "",
           "title": {
            "standoff": 15
           },
           "zerolinecolor": "white",
           "zerolinewidth": 2
          },
          "yaxis": {
           "automargin": true,
           "gridcolor": "white",
           "linecolor": "white",
           "ticks": "",
           "title": {
            "standoff": 15
           },
           "zerolinecolor": "white",
           "zerolinewidth": 2
          }
         }
        },
        "title": {
         "text": "Média histórica de temperatura mínima no Distrito Federal (1961 - 2023)"
        },
        "xaxis": {
         "ticktext": [
          "S",
          "O",
          "N",
          "D",
          "J/E",
          "F",
          "M",
          "A",
          "M",
          "J",
          "J",
          "A"
         ],
         "tickvals": [
          "September",
          "October",
          "November",
          "December",
          "January",
          "February",
          "March",
          "April",
          "May",
          "June",
          "July",
          "August"
         ]
        },
        "yaxis": {
         "range": [
          0,
          20
         ],
         "tickvals": [
          0,
          2,
          4,
          6,
          8,
          10,
          12,
          14,
          16,
          18,
          20
         ],
         "title": {
          "text": "Temperatura Mínima Média (°C)"
         }
        }
       }
      }
     },
     "metadata": {},
     "output_type": "display_data"
    }
   ],
   "source": [
    "# Criar o gráfico\n",
    "fig = go.Figure()\n",
    "\n",
    "# Adicionar o trace com os dados ordenados\n",
    "fig.add_trace(go.Scatter(x=est_brasilia_min_media_ano['MÊS'], \n",
    "                         y=round(est_brasilia_min_media_ano['TEMPERATURA MINIMA, DIARIA(°C)'], 2), \n",
    "                         mode='lines+markers+text', \n",
    "                         text = round(est_brasilia_min_media_ano['TEMPERATURA MINIMA, DIARIA(°C)'], 0),\n",
    "                         textposition='top center',\n",
    "                         name='Estação Convencional Inmet (1961 - 2023)'))\n",
    "\n",
    "# Atualizar o layout para garantir que o eixo x comece pelo mês 9\n",
    "fig.update_layout(\n",
    "    xaxis=dict(\n",
    "        tickvals=['September', 'October', 'November', 'December', 'January', 'February',\n",
    "                  'March', 'April', 'May', 'June', 'July', 'August'],  # Ordenação do eixo X começando pelo mês 9\n",
    "        ticktext=['S', 'O', 'N', 'D', 'J/E', 'F', 'M', 'A', 'M', 'J', 'J', 'A'],  # Abreviações dos meses\n",
    "        # title=\"Mês\"\n",
    "    ),\n",
    "    yaxis = dict(\n",
    "        title = 'Temperatura Mínima Média (°C)',\n",
    "        range = [0, 20],\n",
    "        tickvals = list(range(0,21, 2)),\n",
    "    ),\n",
    "    title=\"Média histórica de temperatura mínima no Distrito Federal (1961 - 2023)\", # Título do gráfico\n",
    "    # Adicionar a anotação com a fonte dos dados\n",
    "    annotations = [\n",
    "        dict(\n",
    "            x=0, y=-0.2,  # Posição da fonte no layout (ajuste conforme necessário)\n",
    "            xref=\"paper\", yref=\"paper\",\n",
    "            text=\"Fonte: INMET, 2024\",  # Texto da fonte\n",
    "            showarrow=False,\n",
    "            font=dict(size=10, color=\"gray\")\n",
    "        )\n",
    "    ]\n",
    ")"
   ]
  },
  {
   "cell_type": "code",
   "execution_count": 31,
   "metadata": {},
   "outputs": [],
   "source": [
    "# Exportar o df para um arquivo csv\n",
    "\n",
    "# est_brasilia_min_media_ano.rename(\n",
    "#     columns={'NUM_MÊS':'num_mes',\n",
    "#                 'MÊS':'nm_mes',\n",
    "#                 'TEMPERATURA MINIMA, DIARIA(°C)':'temperatura_min_media_°C'\n",
    "#              }, inplace=True)\n",
    "\n",
    "# est_brasilia_min_media_ano['temperatura_min_media_°C'] = round(est_brasilia_min_media_ano['temperatura_min_media_°C'], 2)\n",
    "\n",
    "# if not os.path.exists(caminho_arquivo('resultado')):\n",
    "#     os.makedirs(caminho_arquivo('resultado'))\n",
    "# est_brasilia_min_media_ano.to_csv(caminho_arquivo('resultado/est_brasilia_min_media_ano.csv'), index=False)"
   ]
  },
  {
   "cell_type": "markdown",
   "metadata": {},
   "source": [
    "### SALVAR DADOS E GRÁFICOS EM UM EXCEL\n"
   ]
  },
  {
   "cell_type": "code",
   "execution_count": 32,
   "metadata": {},
   "outputs": [],
   "source": [
    "est_brasilia_precipitacao_media_ano_sorted.rename(\n",
    "    columns={'NUM_MÊS':'num_mes',\n",
    "                'MÊS':'nm_mes',\n",
    "                'PRECIPITACAO TOTAL, DIARIO(mm)':'precipitacao_mensal_media_mm'\n",
    "             }, inplace=True)\n",
    "\n",
    "est_brasilia_umidade_media_ano.rename(\n",
    "    columns={'NUM_MÊS':'num_mes',\n",
    "                'MÊS':'nm_mes',\n",
    "                'UMIDADE RELATIVA DO AR, MEDIA DIARIA(%)':'umidade_relativa_ar_media_%'\n",
    "             }, inplace=True)\n",
    "\n",
    "est_brasilia_max_media_ano.rename(\n",
    "    columns={'NUM_MÊS':'num_mes',\n",
    "                'MÊS':'nm_mes',\n",
    "                'TEMPERATURA MAXIMA, DIARIA(°C)':'temperatura_max_media_°C'\n",
    "             }, inplace=True)\n",
    "\n",
    "est_brasilia_min_media_ano.rename(\n",
    "    columns={'NUM_MÊS':'num_mes',\n",
    "                'MÊS':'nm_mes',\n",
    "                'TEMPERATURA MINIMA, DIARIA(°C)':'temperatura_min_media_°C'\n",
    "             }, inplace=True)\n",
    "\n",
    "\n",
    "# Dicionário de Meses para abreviação\n",
    "meses_dict = {\n",
    "    'September': 'S',\n",
    "    'October': 'O',\n",
    "    'November': 'N',\n",
    "    'December': 'D',\n",
    "    'January': 'J/E',\n",
    "    'February': 'F',\n",
    "    'March': 'M',\n",
    "    'April': 'A',\n",
    "    'May': 'M',\n",
    "    'June': 'J',\n",
    "    'July': 'J',\n",
    "    'August': 'A'\n",
    "}\n",
    "\n",
    "# Abreveação dos meses \n",
    "est_brasilia_precipitacao_media_ano_sorted['nm_mes'] = est_brasilia_precipitacao_media_ano_sorted['nm_mes'].replace(meses_dict)\n",
    "est_brasilia_umidade_media_ano['nm_mes'] = est_brasilia_umidade_media_ano['nm_mes'].replace(meses_dict)\n",
    "est_brasilia_max_media_ano['nm_mes'] = est_brasilia_max_media_ano['nm_mes'].replace(meses_dict)\n",
    "est_brasilia_min_media_ano['nm_mes'] = est_brasilia_min_media_ano['nm_mes'].replace(meses_dict)\n",
    "\n",
    "\n",
    "# Arrendondar os valores\n",
    "est_brasilia_precipitacao_media_ano_sorted['precipitacao_mensal_media_mm'] = round(est_brasilia_precipitacao_media_ano_sorted['precipitacao_mensal_media_mm'], 2)\n",
    "est_brasilia_umidade_media_ano['umidade_relativa_ar_media_%'] = round(est_brasilia_umidade_media_ano['umidade_relativa_ar_media_%'], 2)\n",
    "est_brasilia_max_media_ano['temperatura_max_media_°C'] = round(est_brasilia_max_media_ano['temperatura_max_media_°C'], 2)\n",
    "est_brasilia_min_media_ano['temperatura_min_media_°C'] = round(est_brasilia_min_media_ano['temperatura_min_media_°C'], 2)\n",
    "\n"
   ]
  },
  {
   "cell_type": "code",
   "execution_count": 33,
   "metadata": {},
   "outputs": [],
   "source": [
    "# Configurações das abas da planilha excel com os gráficos\n",
    "abas = {\n",
    "    \"precipitacao\": {\n",
    "        \"dados\": est_brasilia_precipitacao_media_ano_sorted,\n",
    "        \"name_add_series\":'Média de Chuva (mm)',\n",
    "        \"name_set_title\":'Média histórica de chuva mensal no Distrito Federal (1961 - 2023)',\n",
    "        \"name_set_x_axis\":'Mês',\n",
    "        \"name_set_y_axis\":'Média de Chuva (mm)',\n",
    "        \"min_y\": 0,\n",
    "        \"max_y\": 300\n",
    "        },\n",
    "    \n",
    "    \"umidade\": {\n",
    "        \"dados\":est_brasilia_umidade_media_ano,\n",
    "        \"name_add_series\":'Média de Umidade (%)',\n",
    "        \"name_set_title\":'Média histórica de umidade relativa do ar no Distrito Federal (1961 - 2023)',\n",
    "        \"name_set_x_axis\":'Mês',\n",
    "        \"name_set_y_axis\":'Média de Umidade (%)',\n",
    "        \"min_y\": 0,\n",
    "        \"max_y\": 85\n",
    "        },\n",
    "    \"temperaturaMax\":{\n",
    "        \"dados\":est_brasilia_max_media_ano,\n",
    "        \"name_add_series\":'Média de Temperatura Máxima (°C)',\n",
    "        \"name_set_title\":'Média histórica de temperatura máxima no Distrito Federal (1961 - 2023)',\n",
    "        \"name_set_x_axis\":'Mês',\n",
    "        \"name_set_y_axis\":'Média de Temperatura Máxima (°C)',\n",
    "        \"min_y\": 0,\n",
    "        \"max_y\": 32        \n",
    "    },\n",
    "    \"temperaturaMin\":{\n",
    "        \"dados\":est_brasilia_min_media_ano,\n",
    "        \"name_add_series\":'Média de Temperatura Mínima (°C)',\n",
    "        \"name_set_title\":'Média histórica de temperatura mínima no Distrito Federal (1961 - 2023)',\n",
    "        \"name_set_x_axis\":'Mês',\n",
    "        \"name_set_y_axis\":'Média de Temperatura Mínima (°C)',\n",
    "        \"min_y\": 0,\n",
    "        \"max_y\": 20\n",
    "    }\n",
    "}\n",
    "\n"
   ]
  },
  {
   "cell_type": "code",
   "execution_count": 34,
   "metadata": {},
   "outputs": [],
   "source": [
    "\n",
    "# Criar um arquivo Excel com xlsxwriter\n",
    "with pd.ExcelWriter('resultado/Graficos_elementos_climaticos_cap2.xlsx', engine='xlsxwriter') as writer:\n",
    "    \n",
    "    for sheet_nome, config in abas.items():\n",
    "        \n",
    "        df = config['dados'] # DataFrame com os dados\n",
    "        nome_add_series = config['name_add_series'] # Nome da série no gráfico\n",
    "        titulo = config['name_set_title'] # Título do gráfico\n",
    "        nome_x_axis = config['name_set_x_axis'] # Nome do eixo X\n",
    "        nome_y_axis = config['name_set_y_axis'] # Nome do eixo Y\n",
    "        min = config['min_y'] # Valor mínimo do eixo Y\n",
    "        max = config['max_y'] # Valor máximo do eixo Y\n",
    "        \n",
    "        # Escrever o DataFrame diretamente na planilha\n",
    "        df.to_excel(writer, sheet_name=sheet_nome, index=False, startrow=1)\n",
    "        \n",
    "        # Acessar o workbook e worksheet\n",
    "        workbook = writer.book\n",
    "        worksheet = writer.sheets[sheet_nome]\n",
    "        \n",
    "        # Adicionar um gráfico de linhas\n",
    "        chart = workbook.add_chart({'type': 'line'})\n",
    "        \n",
    "        # Configurar o gráfico com os dados de umidade e meses\n",
    "        chart.add_series({\n",
    "            'name': nome_add_series,\n",
    "            'categories': [sheet_nome, 2, 1, 13, 1],  # Coluna dos meses no DataFrame\n",
    "            'values':     [sheet_nome, 2, 2, 13, 2],  # Coluna dos valores de umidade\n",
    "            'data_labels': {'value': True},        # Exibir valores nos pontos do gráfico\n",
    "        })\n",
    "        \n",
    "        # Configurar título e eixos do gráfico\n",
    "        chart.set_title({'name': titulo})\n",
    "        chart.set_x_axis({'name': nome_x_axis})\n",
    "        chart.set_y_axis({'name': nome_y_axis, 'min': min, 'max': max})\n",
    "        \n",
    "        # Configurar o tamanho do gráfico\n",
    "        chart.set_size({'width': 860, 'height': 376})\n",
    "        \n",
    "        # Inserir o gráfico na planilha\n",
    "        worksheet.insert_chart('E4', chart)\n",
    "\n",
    "    # O arquivo `Graficos_elementos_climaticos_cap2.xlsx` será salvo no diretório resultado"
   ]
  }
 ],
 "metadata": {
  "kernelspec": {
   "display_name": "base",
   "language": "python",
   "name": "python3"
  },
  "language_info": {
   "codemirror_mode": {
    "name": "ipython",
    "version": 3
   },
   "file_extension": ".py",
   "mimetype": "text/x-python",
   "name": "python",
   "nbconvert_exporter": "python",
   "pygments_lexer": "ipython3",
   "version": "3.11.8"
  }
 },
 "nbformat": 4,
 "nbformat_minor": 2
}
